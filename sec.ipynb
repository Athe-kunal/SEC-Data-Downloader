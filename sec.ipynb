{
 "cells": [
  {
   "cell_type": "code",
   "execution_count": 2,
   "metadata": {},
   "outputs": [],
   "source": [
    "# from sec_edgar_downloader._utils import get_filing_urls_to_download\n"
   ]
  },
  {
   "cell_type": "code",
   "execution_count": 93,
   "metadata": {},
   "outputs": [],
   "source": [
    "from utils import get_filing_urls_to_download\n",
    "from datetime import date"
   ]
  },
  {
   "cell_type": "code",
   "execution_count": 138,
   "metadata": {},
   "outputs": [],
   "source": [
    "import re\n",
    "DATE_FORMAT_TOKENS = \"%Y-%m-%d\"\n",
    "DEFAULT_BEFORE_DATE = date.today().strftime(DATE_FORMAT_TOKENS)\n",
    "DEFAULT_AFTER_DATE = date(2000, 1, 1).strftime(DATE_FORMAT_TOKENS)\n",
    "def extract_year(s):\n",
    "    matches = re.findall(\"20\\d{2}\", s)\n",
    "    if matches:\n",
    "        return matches[-1]  # Return the first match\n",
    "    else:\n",
    "        return None  # In case no match is found\n",
    "def get_year(filing_details:str,doc_name:str=\"10-K\"):\n",
    "    if doc_name==\"10-K\":\n",
    "        year = extract_year(filing_details.split(\"/\")[-1])\n",
    "    elif doc_name == \"10-Q\":\n",
    "        year = filing_details.rsplit(\".\",1)[0][-8:][:-2]\n",
    "    return year\n",
    "\n",
    "def get_accession_numbers(tic:str=\"GOOGL\",filing_type:str=\"10-Q\"):\n",
    "    final_dict = {}\n",
    "    filing_metadata = get_filing_urls_to_download(\n",
    "                filing_type,\n",
    "                tic,\n",
    "                5,            \n",
    "                after_date= DEFAULT_AFTER_DATE,\n",
    "                before_date=DEFAULT_BEFORE_DATE,       \n",
    "                include_amends=False\n",
    "            )\n",
    "    # fm.append(filing_metadata)\n",
    "    print(filing_metadata)\n",
    "    acc_nums_yrs = [[fm.accession_number.replace(\"-\",\"\"),get_year(fm.filing_details_url,filing_type),fm.full_submission_url] for fm in filing_metadata]\n",
    "    for acy in acc_nums_yrs:\n",
    "        if tic not in final_dict:final_dict.update({tic:[]})\n",
    "        final_dict[tic].append({\"year\":acy[1],\"accession_number\":acy[0],\"url\":acy[2]})\n",
    "    return final_dict"
   ]
  },
  {
   "cell_type": "code",
   "execution_count": 139,
   "metadata": {},
   "outputs": [
    {
     "name": "stdout",
     "output_type": "stream",
     "text": [
      "[FilingMetadata(accession_number='0001652044-23-000045', full_submission_url='https://www.sec.gov/Archives/edgar/data/0001652044/000165204423000045/0001652044-23-000045.txt', filing_details_url='https://www.sec.gov/Archives/edgar/data/0001652044/000165204423000045/goog-20230331.htm', filing_details_filename='filing-details.html'), FilingMetadata(accession_number='0001652044-22-000090', full_submission_url='https://www.sec.gov/Archives/edgar/data/0001652044/000165204422000090/0001652044-22-000090.txt', filing_details_url='https://www.sec.gov/Archives/edgar/data/0001652044/000165204422000090/goog-20220930.htm', filing_details_filename='filing-details.html'), FilingMetadata(accession_number='0001652044-22-000071', full_submission_url='https://www.sec.gov/Archives/edgar/data/0001652044/000165204422000071/0001652044-22-000071.txt', filing_details_url='https://www.sec.gov/Archives/edgar/data/0001652044/000165204422000071/goog-20220630.htm', filing_details_filename='filing-details.html'), FilingMetadata(accession_number='0001652044-22-000029', full_submission_url='https://www.sec.gov/Archives/edgar/data/0001652044/000165204422000029/0001652044-22-000029.txt', filing_details_url='https://www.sec.gov/Archives/edgar/data/0001652044/000165204422000029/goog-20220331.htm', filing_details_filename='filing-details.html'), FilingMetadata(accession_number='0001652044-21-000057', full_submission_url='https://www.sec.gov/Archives/edgar/data/0001652044/000165204421000057/0001652044-21-000057.txt', filing_details_url='https://www.sec.gov/Archives/edgar/data/0001652044/000165204421000057/goog-20210930.htm', filing_details_filename='filing-details.html')]\n"
     ]
    }
   ],
   "source": [
    "acc_num_dict = get_accession_numbers()"
   ]
  },
  {
   "cell_type": "code",
   "execution_count": 140,
   "metadata": {},
   "outputs": [
    {
     "data": {
      "text/plain": [
       "{'GOOGL': [{'year': '202303',\n",
       "   'accession_number': '000165204423000045',\n",
       "   'url': 'https://www.sec.gov/Archives/edgar/data/0001652044/000165204423000045/0001652044-23-000045.txt'},\n",
       "  {'year': '202209',\n",
       "   'accession_number': '000165204422000090',\n",
       "   'url': 'https://www.sec.gov/Archives/edgar/data/0001652044/000165204422000090/0001652044-22-000090.txt'},\n",
       "  {'year': '202206',\n",
       "   'accession_number': '000165204422000071',\n",
       "   'url': 'https://www.sec.gov/Archives/edgar/data/0001652044/000165204422000071/0001652044-22-000071.txt'},\n",
       "  {'year': '202203',\n",
       "   'accession_number': '000165204422000029',\n",
       "   'url': 'https://www.sec.gov/Archives/edgar/data/0001652044/000165204422000029/0001652044-22-000029.txt'},\n",
       "  {'year': '202109',\n",
       "   'accession_number': '000165204421000057',\n",
       "   'url': 'https://www.sec.gov/Archives/edgar/data/0001652044/000165204421000057/0001652044-21-000057.txt'}]}"
      ]
     },
     "execution_count": 140,
     "metadata": {},
     "output_type": "execute_result"
    }
   ],
   "source": [
    "acc_num_dict"
   ]
  },
  {
   "cell_type": "code",
   "execution_count": 132,
   "metadata": {},
   "outputs": [
    {
     "name": "stdout",
     "output_type": "stream",
     "text": [
      "[FilingMetadata(accession_number='0001652044-23-000016', full_submission_url='https://www.sec.gov/Archives/edgar/data/0001652044/000165204423000016/0001652044-23-000016.txt', filing_details_url='https://www.sec.gov/Archives/edgar/data/0001652044/000165204423000016/goog-20221231.htm', filing_details_filename='filing-details.html'), FilingMetadata(accession_number='0001652044-22-000019', full_submission_url='https://www.sec.gov/Archives/edgar/data/0001652044/000165204422000019/0001652044-22-000019.txt', filing_details_url='https://www.sec.gov/Archives/edgar/data/0001652044/000165204422000019/goog-20211231.htm', filing_details_filename='filing-details.html'), FilingMetadata(accession_number='0001652044-21-000010', full_submission_url='https://www.sec.gov/Archives/edgar/data/0001652044/000165204421000010/0001652044-21-000010.txt', filing_details_url='https://www.sec.gov/Archives/edgar/data/0001652044/000165204421000010/goog-20201231.htm', filing_details_filename='filing-details.html'), FilingMetadata(accession_number='0001652044-20-000008', full_submission_url='https://www.sec.gov/Archives/edgar/data/0001652044/000165204420000008/0001652044-20-000008.txt', filing_details_url='https://www.sec.gov/Archives/edgar/data/0001652044/000165204420000008/goog10-k2019.htm', filing_details_filename='filing-details.html'), FilingMetadata(accession_number='0001652044-19-000004', full_submission_url='https://www.sec.gov/Archives/edgar/data/0001652044/000165204419000004/0001652044-19-000004.txt', filing_details_url='https://www.sec.gov/Archives/edgar/data/0001652044/000165204419000004/goog10-kq42018.htm', filing_details_filename='filing-details.html')]\n"
     ]
    }
   ],
   "source": [
    "acc_num_dict = get_accession_numbers()"
   ]
  },
  {
   "cell_type": "code",
   "execution_count": 129,
   "metadata": {},
   "outputs": [
    {
     "name": "stdout",
     "output_type": "stream",
     "text": [
      "['0001', '0000', '0001']\n"
     ]
    }
   ],
   "source": [
    "import re\n",
    "\n",
    "l = [\"'https://www.sec.gov/Archives/edgar/data/0001652044/000165204419000004/goog10-kq42018.htm'\",\n",
    "     \"https://www.sec.gov/Archives/edgar/data/0000320193/000032019318000145/a10k20189292018.htm\",\n",
    "     \"'https://www.sec.gov/Archives/edgar/data/0001318605/000156459019003165/tsla-10k_20181231.htm'\"]\n",
    "\n",
    "years = []\n",
    "for string in l:\n",
    "    match = re.search(r'\\d{4}', string)\n",
    "    if match:\n",
    "        years.append(match.group())\n",
    "\n",
    "print(years)\n"
   ]
  },
  {
   "cell_type": "code",
   "execution_count": 130,
   "metadata": {},
   "outputs": [
    {
     "data": {
      "text/plain": [
       "['2018', '2018', '2018']"
      ]
     },
     "execution_count": 130,
     "metadata": {},
     "output_type": "execute_result"
    }
   ],
   "source": [
    "import re\n",
    "\n",
    "l = [\"goog10-kq42018.htm'\",\"a10k20189292018.htm\",\"'tsla-10k_20181231.htm\",\"\"]\n",
    "\n",
    "# Function to extract the year\n",
    "def extract_year(s):\n",
    "    matches = re.findall(\"20\\d{2}\", s)\n",
    "    if matches:\n",
    "        return matches[-1]  # Return the first match\n",
    "    else:\n",
    "        return None  # In case no match is found\n",
    "\n",
    "# Apply the function to each string in the list\n",
    "years = [extract_year(s) for s in l]\n",
    "years\n"
   ]
  },
  {
   "cell_type": "code",
   "execution_count": null,
   "metadata": {},
   "outputs": [],
   "source": []
  }
 ],
 "metadata": {
  "kernelspec": {
   "display_name": "Python 3",
   "language": "python",
   "name": "python3"
  },
  "language_info": {
   "codemirror_mode": {
    "name": "ipython",
    "version": 3
   },
   "file_extension": ".py",
   "mimetype": "text/x-python",
   "name": "python",
   "nbconvert_exporter": "python",
   "pygments_lexer": "ipython3",
   "version": "3.10.6"
  },
  "orig_nbformat": 4
 },
 "nbformat": 4,
 "nbformat_minor": 2
}
